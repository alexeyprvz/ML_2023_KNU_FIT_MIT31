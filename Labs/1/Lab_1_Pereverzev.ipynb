{
 "cells": [
  {
   "cell_type": "markdown",
   "metadata": {},
   "source": [
    "# Лабораторна робота №1\n",
    "### Студента групи МІТ-31\n",
    "### Переверзева Олексія"
   ]
  },
  {
   "cell_type": "markdown",
   "metadata": {},
   "source": [
    "# 1. NumPy"
   ]
  },
  {
   "cell_type": "markdown",
   "metadata": {},
   "source": [
    "#### 1.1 Create"
   ]
  },
  {
   "cell_type": "code",
   "execution_count": 211,
   "metadata": {},
   "outputs": [],
   "source": [
    "# Використання arange\n",
    "import numpy as np\n",
    "\n",
    "# Генеруємо масив від 5 до 40 з кроком 5\n",
    "array = np.arange(start=5, stop=40, step=5)\n",
    "\n",
    "# Генеруємо масив з випадковими числами від 3 до 50 розміром 5 елементів\n",
    "array_rnd = np.random.randint(low=3, high=50, size=5)\n",
    "\n",
    "# Створення багатовимірного масиву розміром 4x4 зі згенерованими випадковими числами від 1 до 10\n",
    "mm_array = np.random.randint(1, 10, (4, 4))\n",
    "\n",
    "# Вектор першого рядка\n",
    "vector = mm_array[0, :]\n",
    "\n",
    "# Скалярне випадкове значення від 1 до 50\n",
    "scalar = np.random.randint(1, 50)\n",
    "\n",
    "# Створення матриці\n",
    "matrix_1 = np.matrix([[3, 4, 6], [5, 2, 8], [4, 9, 1]])\n",
    "\n",
    "matrix_2 = np.matrix([[9, 1, 4], [6, 7, 9], [2, 1, 3]])"
   ]
  },
  {
   "cell_type": "markdown",
   "metadata": {},
   "source": [
    "#### 1.2 Read"
   ]
  },
  {
   "cell_type": "code",
   "execution_count": 212,
   "metadata": {},
   "outputs": [
    {
     "name": "stdout",
     "output_type": "stream",
     "text": [
      "Одновимірний масив:  [ 5 10 15 20 25 30 35]\n",
      "\n",
      "Одновимірний масив з випадковими числами:  [18 30  6 33  3]\n",
      "\n",
      "Багатовимірний масив:  \n",
      " [[8 9 6 7]\n",
      " [8 2 5 4]\n",
      " [8 2 8 5]\n",
      " [3 9 8 8]]\n",
      "\n",
      "Вектор першого рядка: [8 9 6 7]\n",
      "\n",
      "Вектор третього рядка: [8 2 8 5]\n",
      "\n",
      "2й і 3й елементи четвертого рядка: [9 8]\n",
      "\n",
      "Скалярне число:  4\n",
      "\n",
      "Перша матриця:\n",
      " [[3 4 6]\n",
      " [5 2 8]\n",
      " [4 9 1]]\n",
      "\n",
      "Друга матриця:\n",
      " [[9 1 4]\n",
      " [6 7 9]\n",
      " [2 1 3]]\n"
     ]
    }
   ],
   "source": [
    "print(\"Одновимірний масив: \", array)\n",
    "\n",
    "print(\"\\nОдновимірний масив з випадковими числами: \",array_rnd)\n",
    "\n",
    "print(\"\\nБагатовимірний масив: \",\"\\n\", mm_array)\n",
    "\n",
    "print(\"\\nВектор першого рядка:\", vector)\n",
    "\n",
    "print(\"\\nВектор третього рядка:\", mm_array[2, :])\n",
    "\n",
    "print(\"\\n2й і 3й елементи четвертого рядка:\", mm_array[3, 1:3])\n",
    "\n",
    "print(\"\\nСкалярне число: \", scalar)\n",
    "\n",
    "print(\"\\nПерша матриця:\\n\", matrix_1)\n",
    "\n",
    "print(\"\\nДруга матриця:\\n\", matrix_2, )"
   ]
  },
  {
   "cell_type": "markdown",
   "metadata": {},
   "source": [
    "#### 1.3 Update"
   ]
  },
  {
   "cell_type": "code",
   "execution_count": 213,
   "metadata": {},
   "outputs": [
    {
     "name": "stdout",
     "output_type": "stream",
     "text": [
      "\n",
      "Змінене скалярне число:  2\n",
      "\n",
      "Багатовимірний масив після зміни:  \n",
      " [[8 9 6 7]\n",
      " [8 2 5 4]\n",
      " [8 2 8 5]\n",
      " [3 9 8 2]]\n",
      "\n",
      "Сума:\n",
      " [[12  5 10]\n",
      " [11  9 17]\n",
      " [ 6 10  4]]\n",
      "\n",
      "Різниця:\n",
      " [[-6  3  2]\n",
      " [-1 -5 -1]\n",
      " [ 2  8 -2]]\n",
      "\n",
      "Добуток:\n",
      " [[ 63  37  66]\n",
      " [ 73  27  62]\n",
      " [ 92  68 100]]\n",
      "\n",
      "Транспонована матриця (перша):\n",
      " [[3 5 4]\n",
      " [4 2 9]\n",
      " [6 8 1]]\n"
     ]
    }
   ],
   "source": [
    "# Зміна значення\n",
    "scalar = mm_array[1, 1]\n",
    "print(\"\\nЗмінене скалярне число: \", scalar)\n",
    "\n",
    "mm_array[-1, -1] = scalar\n",
    "print(\"\\nБагатовимірний масив після зміни: \",\"\\n\", mm_array)\n",
    "\n",
    "# Дії з матрицями\n",
    "\n",
    "# Сума\n",
    "print(\"\\nСума:\\n\", matrix_1 + matrix_2)\n",
    "\n",
    "# Різниця\n",
    "print(\"\\nРізниця:\\n\", matrix_1 - matrix_2)\n",
    "\n",
    "# Добуток\n",
    "print(\"\\nДобуток:\\n\", np.dot(matrix_1, matrix_2))\n",
    "\n",
    "# Транспонування\n",
    "print(\"\\nТранспонована матриця (перша):\\n\", matrix_1.T)"
   ]
  },
  {
   "cell_type": "markdown",
   "metadata": {},
   "source": [
    "#### 1.4 Delete"
   ]
  },
  {
   "cell_type": "code",
   "execution_count": 214,
   "metadata": {},
   "outputs": [
    {
     "name": "stdout",
     "output_type": "stream",
     "text": [
      "\n",
      "Матриця до:\n",
      " [[3 4 6]\n",
      " [5 2 8]\n",
      " [4 9 1]]\n",
      "\n",
      "Матриця після видалення другого рядка:\n",
      " [[3 4 6]\n",
      " [4 9 1]]\n",
      "\n",
      "Вектор до: [8 9 6 7]\n",
      "\n",
      "Вектор після видалення елементів: [8 7]\n"
     ]
    }
   ],
   "source": [
    "# Видалення\n",
    "\n",
    "print(\"\\nМатриця до:\\n\", matrix_1)\n",
    "matrix_1 = np.delete(matrix_1, 1, 0)\n",
    "print(\"\\nМатриця після видалення другого рядка:\\n\",matrix_1)\n",
    "\n",
    "print(\"\\nВектор до:\", vector)\n",
    "vector = np.delete(vector, [1,2])\n",
    "print(\"\\nВектор після видалення елементів:\", vector)\n"
   ]
  },
  {
   "cell_type": "markdown",
   "metadata": {},
   "source": [
    "# 2. Pandas"
   ]
  },
  {
   "cell_type": "code",
   "execution_count": 215,
   "metadata": {},
   "outputs": [
    {
     "name": "stdout",
     "output_type": "stream",
     "text": [
      "1 - Створенння dataframe зі списку\n",
      "\n",
      "    Числа кратні 5\n",
      "0                5\n",
      "1               15\n",
      "2               25\n",
      "3               35\n",
      "4               45\n",
      "5               55\n",
      "6               65\n",
      "7               75\n",
      "8               85\n",
      "9               95\n",
      "10             105\n",
      "\n",
      "______________________________________________\n",
      "\n",
      "2 - Створенння dataframe зі списку списків\n",
      "\n",
      "               Фільм   Рік               Режисер\n",
      "0   Втеча з Шоушенка  1994        Френк Дарабонт\n",
      "1    Хрещений батько  1972  Френсіс Форд Коппола\n",
      "2    Список Шиндлера  1993       Стівен Спілберг\n",
      "3  Кримінальне чтиво  1994     Квентін Тарантіно\n",
      "4            Матриця  1999        брати Вачовскі\n",
      "\n",
      "______________________________________________\n",
      "\n",
      "3 - Створенння dataframe зі словника списків\n",
      "\n",
      "               Фільм   Рік               Режисер\n",
      "0   Втеча з Шоушенка  1994        Френк Дарабонт\n",
      "1    Хрещений батько  1972  Френсіс Форд Коппола\n",
      "2    Список Шиндлера  1993       Стівен Спілберг\n",
      "3  Кримінальне чтиво  1994     Квентін Тарантіно\n",
      "4            Матриця  1999        брати Вачовскі\n",
      "\n",
      "______________________________________________\n",
      "\n",
      "4 - Створенння dataframe вказуючи індекси\n",
      "\n",
      "               Фільм   Рік               Режисер\n",
      "a   Втеча з Шоушенка  1994        Френк Дарабонт\n",
      "b    Хрещений батько  1972  Френсіс Форд Коппола\n",
      "c    Список Шиндлера  1993       Стівен Спілберг\n",
      "d  Кримінальне чтиво  1994     Квентін Тарантіно\n",
      "e            Матриця  1999        брати Вачовскі\n",
      "\n",
      "______________________________________________\n",
      "\n",
      "5 - Створенння dataframe зі списку словників\n",
      "\n",
      "               Фільм   Рік               Режисер\n",
      "1   Втеча з Шоушенка  1994        Френк Дарабонт\n",
      "2    Хрещений батько  1972  Френсіс Форд Коппола\n",
      "3    Список Шиндлера  1993       Стівен Спілберг\n",
      "4  Кримінальне чтиво  1994     Квентін Тарантіно\n",
      "5            Матриця  1999        брати Вачовскі\n"
     ]
    }
   ],
   "source": [
    "import pandas as pd\n",
    "\n",
    "line = \"\\n______________________________________________\\n\"\n",
    "\n",
    "print(\"1 - Створенння dataframe зі списку\\n\")\n",
    "data_1 = [5, 15, 25, 35, 45, 55, 65, 75, 85, 95, 105]\n",
    "df_1 = pd.DataFrame(data_1, columns=['Числа кратні 5'])\n",
    "print(df_1)\n",
    "\n",
    "print(line)\n",
    "print(\"2 - Створенння dataframe зі списку списків\\n\")\n",
    "data_2 = [['Втеча з Шоушенка', 1994, 'Френк Дарабонт'], \n",
    "          ['Хрещений батько', 1972, 'Френсіс Форд Коппола'], \n",
    "          ['Список Шиндлера', 1993, 'Стівен Спілберг'], \n",
    "          ['Кримінальне чтиво', 1994, 'Квентін Тарантіно'],\n",
    "          ['Матриця', 1999, 'брати Вачовскі']]\n",
    "df_2 = pd.DataFrame(data_2, columns=['Фільм', 'Рік', 'Режисер'])\n",
    "print(df_2)\n",
    "\n",
    "print(line)\n",
    "print(\"3 - Створенння dataframe зі словника списків\\n\")\n",
    "data_3 = {'Фільм': ['Втеча з Шоушенка', \n",
    "                    'Хрещений батько', \n",
    "                    'Список Шиндлера', \n",
    "                    'Кримінальне чтиво', \n",
    "                    'Матриця'], \n",
    "          'Рік': [1994, \n",
    "                  1972, \n",
    "                  1993, \n",
    "                  1994, \n",
    "                  1999],\n",
    "        'Режисер':['Френк Дарабонт',\n",
    "                   'Френсіс Форд Коппола',\n",
    "                   'Стівен Спілберг',\n",
    "                   'Квентін Тарантіно',\n",
    "                   'брати Вачовскі']}\n",
    "df_3 = pd.DataFrame(data_3)\n",
    "print(df_3)\n",
    "\n",
    "print(line)\n",
    "print(\"4 - Створенння dataframe вказуючи індекси\\n\")\n",
    "data_4 = data_3\n",
    "df_4 = pd.DataFrame(data_4, index=['a',\n",
    "                                    'b',\n",
    "                                    'c',\n",
    "                                    'd',\n",
    "                                    'e'])\n",
    "print(df_4)\n",
    "\n",
    "print(line)\n",
    "print(\"5 - Створенння dataframe зі списку словників\\n\")\n",
    "data_5 = [{'Фільм': 'Втеча з Шоушенка', 'Рік': 1994, 'Режисер': 'Френк Дарабонт'},\n",
    "          {'Фільм': 'Хрещений батько', 'Рік': 1972, 'Режисер': 'Френсіс Форд Коппола'},\n",
    "          {'Фільм': 'Список Шиндлера', 'Рік': 1993, 'Режисер': 'Стівен Спілберг'},\n",
    "          {'Фільм': 'Кримінальне чтиво', 'Рік': 1994, 'Режисер': 'Квентін Тарантіно'},\n",
    "          {'Фільм': 'Матриця', 'Рік': 1999, 'Режисер': 'брати Вачовскі'}]\n",
    "df_5 = pd.DataFrame(data_5, index=[1, 2, 3, 4, 5])\n",
    "print(df_5)\n",
    "\n"
   ]
  },
  {
   "cell_type": "code",
   "execution_count": 216,
   "metadata": {},
   "outputs": [
    {
     "name": "stdout",
     "output_type": "stream",
     "text": [
      "Перші 3 рядки:\n",
      "              Фільм   Рік               Режисер\n",
      "1  Втеча з Шоушенка  1994        Френк Дарабонт\n",
      "2   Хрещений батько  1972  Френсіс Форд Коппола\n",
      "3   Список Шиндлера  1993       Стівен Спілберг\n",
      "\n",
      "______________________________________________\n",
      "\n",
      "Статистика:\n",
      "               Рік\n",
      "count     5.000000\n",
      "mean   1990.400000\n",
      "std      10.549882\n",
      "min    1972.000000\n",
      "25%    1993.000000\n",
      "50%    1994.000000\n",
      "75%    1994.000000\n",
      "max    1999.000000\n",
      "\n",
      "______________________________________________\n",
      "\n",
      "Стовпець Режисер: \n",
      "1          Френк Дарабонт\n",
      "2    Френсіс Форд Коппола\n",
      "3         Стівен Спілберг\n",
      "4       Квентін Тарантіно\n",
      "5          брати Вачовскі\n",
      "Name: Режисер, dtype: object\n"
     ]
    }
   ],
   "source": [
    "print(\"Перші 3 рядки:\")\n",
    "print(df_5.head(3))\n",
    "\n",
    "print(line)\n",
    "\n",
    "print(\"Статистика:\")\n",
    "print(df_5.describe())\n",
    "\n",
    "print(line)\n",
    "\n",
    "print(\"Стовпець Режисер: \")\n",
    "print(df_5['Режисер'])"
   ]
  },
  {
   "cell_type": "code",
   "execution_count": 219,
   "metadata": {},
   "outputs": [
    {
     "name": "stdout",
     "output_type": "stream",
     "text": [
      "Фільми від 1994 року:\n",
      "               Фільм   Рік            Режисер\n",
      "1   Втеча з Шоушенка  1994     Френк Дарабонт\n",
      "4  Кримінальне чтиво  1994  Квентін Тарантіно\n",
      "5            Матриця  1999     брати Вачовскі\n",
      "\n",
      "______________________________________________\n",
      "\n",
      "Четвертий рядок:\n",
      "Фільм      Кримінальне чтиво\n",
      "Рік                     1994\n",
      "Режисер    Квентін Тарантіно\n",
      "Name: 4, dtype: object\n",
      "\n",
      "______________________________________________\n",
      "\n",
      "Рядок за індексом 'e': \n",
      "Фільм             Матриця\n",
      "Рік                  1999\n",
      "Режисер    брати Вачовскі\n",
      "Name: e, dtype: object\n"
     ]
    }
   ],
   "source": [
    "# Фільтрація за умовою\n",
    "print(\"Фільми від 1994 року:\")\n",
    "print(df_5[df_5['Рік'] > 1993])\n",
    "\n",
    "print(line)\n",
    "# Рядок з індексом 3\n",
    "print(\"Четвертий рядок:\")\n",
    "print(df_5.iloc[3])\n",
    "\n",
    "print(line)\n",
    "# Рядок з міткою індексу e\n",
    "print(\"Рядок за індексом 'e': \")\n",
    "print(df_4.loc['e'])"
   ]
  },
  {
   "cell_type": "markdown",
   "metadata": {},
   "source": [
    "# 3. Matplotlib"
   ]
  },
  {
   "cell_type": "code",
   "execution_count": 237,
   "metadata": {},
   "outputs": [
    {
     "name": "stdout",
     "output_type": "stream",
     "text": [
      "Mean absolute error (mae): 1.6194116311483995\n",
      "Mean squared error (mse): 4.077614471748418\n"
     ]
    },
    {
     "data": {
      "image/png": "[encoded data removed]",
      "text/plain": [
       "<Figure size 1000x600 with 1 Axes>"
      ]
     },
     "metadata": {},
     "output_type": "display_data"
    }
   ],
   "source": [
    "import numpy as np\n",
    "import matplotlib.pyplot as plt\n",
    "\n",
    "# Задаємо параметри лінійної функції\n",
    "k = -1\n",
    "l = 8\n",
    "\n",
    "# Генеруємо випадкові дані для x\n",
    "np.random.seed(0)\n",
    "x = np.linspace(0, 20, 100)\n",
    "y = k * x + l\n",
    "\n",
    "# Генеруємо випадкові помилки для y\n",
    "errors = np.random.normal(0, 2, len(x))\n",
    "\n",
    "# y з урахуванням помилок\n",
    "y_errors = y + errors\n",
    "\n",
    "plt.figure(figsize=(10, 6))\n",
    "plt.title('Лінійна функція і дані з помилками')\n",
    "plt.xlabel('Значення X')\n",
    "plt.ylabel('Значення Y')\n",
    "plt.plot(x, y, label='Реальний графік', c ='red')\n",
    "plt.scatter(x, y_errors, label='Графік з похибками вимірювання', c='lightgreen', alpha=0.5)\n",
    "plt.legend()\n",
    "\n",
    "mae = np.mean(np.abs(y - y_errors))\n",
    "mse = np.mean((y - y_errors) ** 2)\n",
    "print(\"Mean absolute error (mae):\", mae)\n",
    "print(\"Mean squared error (mse):\", mse)\n",
    "\n",
    "res = {'X': x,\n",
    "            'Y': y,\n",
    "            'Y_hat': y_errors,\n",
    "            'mAE': mae,\n",
    "            'mSE': mse}\n",
    "df_res = pd.DataFrame(res)\n",
    "df_res.to_csv('results.csv', index=False)\n",
    "\n",
    "plt.show()"
   ]
  }
 ],
 "metadata": {
  "kernelspec": {
   "display_name": "myenv",
   "language": "python",
   "name": "python3"
  },
  "language_info": {
   "codemirror_mode": {
    "name": "ipython",
    "version": 3
   },
   "file_extension": ".py",
   "mimetype": "text/x-python",
   "name": "python",
   "nbconvert_exporter": "python",
   "pygments_lexer": "ipython3",
   "version": "3.11.5"
  },
  "orig_nbformat": 4
 },
 "nbformat": 4,
 "nbformat_minor": 2
}
