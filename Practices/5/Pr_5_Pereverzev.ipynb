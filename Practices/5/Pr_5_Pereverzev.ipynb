{
 "cells": [
  {
   "cell_type": "markdown",
   "metadata": {},
   "source": [
    "# Практична робота №5\n",
    "### Студента групи МІТ-31\n",
    "### Переверзева Олексія"
   ]
  },
  {
   "cell_type": "markdown",
   "metadata": {},
   "source": [
    "#### Загальні операції з TensorFlow:"
   ]
  },
  {
   "cell_type": "markdown",
   "metadata": {},
   "source": [
    "Створення тензорів"
   ]
  },
  {
   "cell_type": "code",
   "execution_count": 33,
   "metadata": {},
   "outputs": [
    {
     "name": "stdout",
     "output_type": "stream",
     "text": [
      "Скаляр:  tf.Tensor(55, shape=(), dtype=int32)\n",
      "\n",
      "Вектор:  <tf.Variable 'Variable:0' shape=(10,) dtype=int32, numpy=array([ 1,  2,  3,  4,  5,  6,  7,  8,  9, 10])>\n",
      "\n",
      "Матриця 1: tf.Tensor(\n",
      "[[5 6]\n",
      " [7 8]], shape=(2, 2), dtype=int32)\n",
      "\n",
      "Матриця 2:  tf.Tensor(\n",
      "[[3 4]\n",
      " [5 6]], shape=(2, 2), dtype=int32)\n",
      "\n",
      "Тензор 1:  tf.Tensor(\n",
      "[[[ 5  4  3  2]\n",
      "  [ 6  7  8  9]]\n",
      "\n",
      " [[11 12 13 14]\n",
      "  [23 44 50 67]]], shape=(2, 2, 4), dtype=int32)\n",
      "\n",
      "Тензор 2:  tensor([[[64, 17, 56, 35],\n",
      "         [ 3, 18, 11, 82]],\n",
      "\n",
      "        [[54, 77, 26, 61],\n",
      "         [59, 72, 74, 32]]])\n"
     ]
    }
   ],
   "source": [
    "import tensorflow as tf\n",
    "import numpy as np\n",
    "import torch\n",
    "\n",
    "tf_scalar = tf.constant(55)\n",
    "print(\"Скаляр: \", tf_scalar)\n",
    "\n",
    "tf_vector = tf.Variable([1, 2, 3, 4, 5, 6, 7, 8, 9, 10])\n",
    "print(\"\\nВектор: \", tf_vector)\n",
    "\n",
    "tf_matrix_1 = tf.constant(\n",
    "    [[5, 6],\n",
    "     [7, 8]])\n",
    "print(\"\\nМатриця 1:\", tf_matrix_1)\n",
    "\n",
    "array = np.arange(3, 7)\n",
    "tf_matrix_2 = tf.constant(array, shape=(2, 2))\n",
    "print(\"\\nМатриця 2: \", tf_matrix_2)\n",
    "\n",
    "tf_tensor_1 = tf.constant(\n",
    "    [[[5, 4, 3, 2],\n",
    "      [6, 7, 8, 9]],\n",
    "     [[11, 12, 13, 14],\n",
    "      [23, 44, 50, 67]]])\n",
    "print(\"\\nТензор 1: \", tf_tensor_1)\n",
    "\n",
    "tf_tensor_2 = torch.randint(1, 99, (2, 2, 4))\n",
    "print(\"\\nТензор 2: \", tf_tensor_2)"
   ]
  },
  {
   "cell_type": "markdown",
   "metadata": {},
   "source": [
    "Операції з тензорами"
   ]
  },
  {
   "cell_type": "code",
   "execution_count": 34,
   "metadata": {},
   "outputs": [
    {
     "name": "stdout",
     "output_type": "stream",
     "text": [
      "Сума: tf.Tensor(\n",
      "[[[ 69  21  59  37]\n",
      "  [  9  25  19  91]]\n",
      "\n",
      " [[ 65  89  39  75]\n",
      "  [ 82 116 124  99]]], shape=(2, 2, 4), dtype=int32)\n",
      "\n",
      "Різниця:  tf.Tensor(\n",
      "[[[-59 -13 -53 -33]\n",
      "  [  3 -11  -3 -73]]\n",
      "\n",
      " [[-43 -65 -13 -47]\n",
      "  [-36 -28 -24  35]]], shape=(2, 2, 4), dtype=int32)\n",
      "\n",
      "Множення:  tf.Tensor(\n",
      "[[[ 320   68  168   70]\n",
      "  [  18  126   88  738]]\n",
      "\n",
      " [[ 594  924  338  854]\n",
      "  [1357 3168 3700 2144]]], shape=(2, 2, 4), dtype=int32)\n",
      "\n",
      "Ділення:  tf.Tensor(\n",
      "[[[0.078125   0.23529412 0.05357143 0.05714286]\n",
      "  [2.         0.38888889 0.72727273 0.1097561 ]]\n",
      "\n",
      " [[0.2037037  0.15584416 0.5        0.2295082 ]\n",
      "  [0.38983051 0.61111111 0.67567568 2.09375   ]]], shape=(2, 2, 4), dtype=float64)\n"
     ]
    }
   ],
   "source": [
    "print(\"Сума:\", tf.add(tf_tensor_1, tf_tensor_2))\n",
    "\n",
    "print(\"\\nРізниця: \", tf.subtract(tf_tensor_1, tf_tensor_2))\n",
    "\n",
    "print(\"\\nМноження: \", tf.multiply(tf_tensor_1, tf_tensor_2))\n",
    "\n",
    "tf_tensor_div = tf.divide(tf_tensor_1, tf_tensor_2)\n",
    "print(\"\\nДілення: \", tf_tensor_div)"
   ]
  },
  {
   "cell_type": "code",
   "execution_count": 35,
   "metadata": {},
   "outputs": [
    {
     "name": "stdout",
     "output_type": "stream",
     "text": [
      "Синус:  tf.Tensor(\n",
      "[[[0.07804555 0.23312901 0.05354581 0.05711176]\n",
      "  [0.90929743 0.3791605  0.66483486 0.10953587]]\n",
      "\n",
      " [[0.20229784 0.15521408 0.47942554 0.22749864]\n",
      "  [0.38003165 0.57377783 0.62542468 0.86634777]]], shape=(2, 2, 4), dtype=float64)\n",
      "\n",
      "Косинус:  tf.Tensor(\n",
      "[[[ 0.99694979  0.97244582  0.99856539  0.99836779]\n",
      "  [-0.41614684  0.92533092  0.74699036  0.99398284]]\n",
      "\n",
      " [[ 0.97932405  0.98788086  0.87758256  0.9737784 ]\n",
      "  [ 0.92497349  0.81901099  0.78028455 -0.49944122]]], shape=(2, 2, 4), dtype=float64)\n"
     ]
    }
   ],
   "source": [
    "print(\"Синус: \", tf.sin(tf_tensor_div))\n",
    "\n",
    "print(\"\\nКосинус: \", tf.cos(tf_tensor_div))"
   ]
  },
  {
   "cell_type": "code",
   "execution_count": 36,
   "metadata": {},
   "outputs": [
    {
     "name": "stdout",
     "output_type": "stream",
     "text": [
      "Множення матриць:  tf.Tensor(\n",
      "[[45 56]\n",
      " [61 76]], shape=(2, 2), dtype=int32)\n"
     ]
    }
   ],
   "source": [
    "print(\"Множення матриць: \", tf.matmul(tf_matrix_1, tf_matrix_2))"
   ]
  },
  {
   "cell_type": "code",
   "execution_count": 37,
   "metadata": {},
   "outputs": [
    {
     "name": "stdout",
     "output_type": "stream",
     "text": [
      "Сума всіх елементів:  tf.Tensor(278, shape=(), dtype=int32)\n",
      "Максимум:  tf.Tensor(67, shape=(), dtype=int32)\n",
      "Mean:  tf.Tensor(17, shape=(), dtype=int32)\n",
      "Мінімум:   tf.Tensor(2, shape=(), dtype=int32)\n"
     ]
    }
   ],
   "source": [
    "print(\"Сума всіх елементів: \", tf.reduce_sum(tf_tensor_1))\n",
    "\n",
    "print(\"Максимум: \", tf.reduce_max(tf_tensor_1))\n",
    "\n",
    "print(\"Mean: \", tf.reduce_mean(tf_tensor_1))\n",
    "\n",
    "print(\"Мінімум:  \", tf.reduce_min(tf_tensor_1))"
   ]
  },
  {
   "cell_type": "markdown",
   "metadata": {},
   "source": [
    "Індексація та зрізи"
   ]
  },
  {
   "cell_type": "code",
   "execution_count": 38,
   "metadata": {},
   "outputs": [
    {
     "name": "stdout",
     "output_type": "stream",
     "text": [
      "Значення одного елемента: tf.Tensor(3, shape=(), dtype=int32)\n",
      "\n",
      "Зріз вектора:  tf.Tensor([ 9 10], shape=(2,), dtype=int32)\n"
     ]
    }
   ],
   "source": [
    "tf_matrix_2_el = tf_matrix_2[0][0]\n",
    "print(\"Значення одного елемента:\", tf_matrix_2_el)\n",
    "\n",
    "sliced_vector = tf_vector[-2:]\n",
    "print(\"\\nЗріз вектора: \", sliced_vector) # Зріз двух останніх елементів вектора"
   ]
  },
  {
   "cell_type": "code",
   "execution_count": 39,
   "metadata": {},
   "outputs": [
    {
     "name": "stdout",
     "output_type": "stream",
     "text": [
      "Змінений тензор 1:  tf.Tensor(\n",
      "[[[ 5  4]\n",
      "  [ 3  2]]\n",
      "\n",
      " [[ 6  7]\n",
      "  [ 8  9]]\n",
      "\n",
      " [[11 12]\n",
      "  [13 14]]\n",
      "\n",
      " [[23 44]\n",
      "  [50 67]]], shape=(4, 2, 2), dtype=int32)\n",
      "\n",
      "Змінений тензор 2:  tf.Tensor([[64 17 56 35  3 18 11 82 54 77 26 61 59 72 74 32]], shape=(1, 16), dtype=int64)\n"
     ]
    }
   ],
   "source": [
    "tf_tensor_1_reshaped = tf.reshape(tf_tensor_1, shape=(4, 2, 2))\n",
    "print(\"Змінений тензор 1: \", tf_tensor_1_reshaped)\n",
    "\n",
    "tf_tensor_2_reshaped = tf.reshape(tf_tensor_2, shape=(1, 16))\n",
    "print(\"\\nЗмінений тензор 2: \", tf_tensor_2_reshaped)"
   ]
  },
  {
   "cell_type": "markdown",
   "metadata": {},
   "source": [
    "#### Глибше ознайомлення з TensorFlow:"
   ]
  },
  {
   "cell_type": "markdown",
   "metadata": {},
   "source": [
    "##### Регресія"
   ]
  },
  {
   "cell_type": "code",
   "execution_count": 40,
   "metadata": {},
   "outputs": [
    {
     "data": {
      "text/html": [
       "<div>\n",
       "<style scoped>\n",
       "    .dataframe tbody tr th:only-of-type {\n",
       "        vertical-align: middle;\n",
       "    }\n",
       "\n",
       "    .dataframe tbody tr th {\n",
       "        vertical-align: top;\n",
       "    }\n",
       "\n",
       "    .dataframe thead th {\n",
       "        text-align: right;\n",
       "    }\n",
       "</style>\n",
       "<table border=\"1\" class=\"dataframe\">\n",
       "  <thead>\n",
       "    <tr style=\"text-align: right;\">\n",
       "      <th></th>\n",
       "      <th>Feature 1</th>\n",
       "      <th>Feature 2</th>\n",
       "      <th>Feature 3</th>\n",
       "      <th>Feature 4</th>\n",
       "      <th>Feature 5</th>\n",
       "      <th>Target</th>\n",
       "    </tr>\n",
       "  </thead>\n",
       "  <tbody>\n",
       "    <tr>\n",
       "      <th>0</th>\n",
       "      <td>0.339666</td>\n",
       "      <td>-0.905620</td>\n",
       "      <td>-0.158379</td>\n",
       "      <td>-0.606846</td>\n",
       "      <td>-0.531254</td>\n",
       "      <td>-2.005825</td>\n",
       "    </tr>\n",
       "    <tr>\n",
       "      <th>1</th>\n",
       "      <td>1.239457</td>\n",
       "      <td>0.059409</td>\n",
       "      <td>-0.682896</td>\n",
       "      <td>-0.821571</td>\n",
       "      <td>0.300079</td>\n",
       "      <td>26.943205</td>\n",
       "    </tr>\n",
       "    <tr>\n",
       "      <th>2</th>\n",
       "      <td>-0.118852</td>\n",
       "      <td>0.063033</td>\n",
       "      <td>-1.587383</td>\n",
       "      <td>-0.400065</td>\n",
       "      <td>-0.788022</td>\n",
       "      <td>-35.452999</td>\n",
       "    </tr>\n",
       "    <tr>\n",
       "      <th>3</th>\n",
       "      <td>1.086627</td>\n",
       "      <td>-1.394968</td>\n",
       "      <td>0.036313</td>\n",
       "      <td>-2.517610</td>\n",
       "      <td>-0.823808</td>\n",
       "      <td>-26.624624</td>\n",
       "    </tr>\n",
       "    <tr>\n",
       "      <th>4</th>\n",
       "      <td>2.543132</td>\n",
       "      <td>0.464966</td>\n",
       "      <td>0.115557</td>\n",
       "      <td>1.184680</td>\n",
       "      <td>0.709315</td>\n",
       "      <td>159.695369</td>\n",
       "    </tr>\n",
       "    <tr>\n",
       "      <th>...</th>\n",
       "      <td>...</td>\n",
       "      <td>...</td>\n",
       "      <td>...</td>\n",
       "      <td>...</td>\n",
       "      <td>...</td>\n",
       "      <td>...</td>\n",
       "    </tr>\n",
       "    <tr>\n",
       "      <th>995</th>\n",
       "      <td>0.002262</td>\n",
       "      <td>-0.282639</td>\n",
       "      <td>0.471642</td>\n",
       "      <td>1.281788</td>\n",
       "      <td>0.662203</td>\n",
       "      <td>59.633682</td>\n",
       "    </tr>\n",
       "    <tr>\n",
       "      <th>996</th>\n",
       "      <td>-0.037516</td>\n",
       "      <td>0.023896</td>\n",
       "      <td>0.319793</td>\n",
       "      <td>-0.143232</td>\n",
       "      <td>1.463784</td>\n",
       "      <td>-7.014870</td>\n",
       "    </tr>\n",
       "    <tr>\n",
       "      <th>997</th>\n",
       "      <td>-0.612195</td>\n",
       "      <td>1.865141</td>\n",
       "      <td>-2.147469</td>\n",
       "      <td>0.354400</td>\n",
       "      <td>1.650016</td>\n",
       "      <td>-26.934401</td>\n",
       "    </tr>\n",
       "    <tr>\n",
       "      <th>998</th>\n",
       "      <td>-1.481840</td>\n",
       "      <td>-0.008498</td>\n",
       "      <td>0.190495</td>\n",
       "      <td>1.905818</td>\n",
       "      <td>-1.447410</td>\n",
       "      <td>-7.668179</td>\n",
       "    </tr>\n",
       "    <tr>\n",
       "      <th>999</th>\n",
       "      <td>0.353527</td>\n",
       "      <td>1.324403</td>\n",
       "      <td>-0.798099</td>\n",
       "      <td>0.131105</td>\n",
       "      <td>-1.388708</td>\n",
       "      <td>21.683489</td>\n",
       "    </tr>\n",
       "  </tbody>\n",
       "</table>\n",
       "<p>1000 rows × 6 columns</p>\n",
       "</div>"
      ],
      "text/plain": [
       "     Feature 1  Feature 2  Feature 3  Feature 4  Feature 5      Target\n",
       "0     0.339666  -0.905620  -0.158379  -0.606846  -0.531254   -2.005825\n",
       "1     1.239457   0.059409  -0.682896  -0.821571   0.300079   26.943205\n",
       "2    -0.118852   0.063033  -1.587383  -0.400065  -0.788022  -35.452999\n",
       "3     1.086627  -1.394968   0.036313  -2.517610  -0.823808  -26.624624\n",
       "4     2.543132   0.464966   0.115557   1.184680   0.709315  159.695369\n",
       "..         ...        ...        ...        ...        ...         ...\n",
       "995   0.002262  -0.282639   0.471642   1.281788   0.662203   59.633682\n",
       "996  -0.037516   0.023896   0.319793  -0.143232   1.463784   -7.014870\n",
       "997  -0.612195   1.865141  -2.147469   0.354400   1.650016  -26.934401\n",
       "998  -1.481840  -0.008498   0.190495   1.905818  -1.447410   -7.668179\n",
       "999   0.353527   1.324403  -0.798099   0.131105  -1.388708   21.683489\n",
       "\n",
       "[1000 rows x 6 columns]"
      ]
     },
     "execution_count": 40,
     "metadata": {},
     "output_type": "execute_result"
    }
   ],
   "source": [
    "import pandas as pd\n",
    "data = pd.read_csv('regression.csv')\n",
    "X = data.drop('Target', axis=1)\n",
    "y = data['Target']\n",
    "\n",
    "data"
   ]
  },
  {
   "cell_type": "code",
   "execution_count": 41,
   "metadata": {},
   "outputs": [
    {
     "data": {
      "text/html": [
       "<div>\n",
       "<style scoped>\n",
       "    .dataframe tbody tr th:only-of-type {\n",
       "        vertical-align: middle;\n",
       "    }\n",
       "\n",
       "    .dataframe tbody tr th {\n",
       "        vertical-align: top;\n",
       "    }\n",
       "\n",
       "    .dataframe thead th {\n",
       "        text-align: right;\n",
       "    }\n",
       "</style>\n",
       "<table border=\"1\" class=\"dataframe\">\n",
       "  <thead>\n",
       "    <tr style=\"text-align: right;\">\n",
       "      <th></th>\n",
       "      <th>Feature 1</th>\n",
       "      <th>Feature 2</th>\n",
       "      <th>Feature 3</th>\n",
       "      <th>Feature 4</th>\n",
       "      <th>Feature 5</th>\n",
       "    </tr>\n",
       "  </thead>\n",
       "  <tbody>\n",
       "    <tr>\n",
       "      <th>458</th>\n",
       "      <td>-0.129755</td>\n",
       "      <td>0.516093</td>\n",
       "      <td>1.305918</td>\n",
       "      <td>0.062283</td>\n",
       "      <td>1.166636</td>\n",
       "    </tr>\n",
       "    <tr>\n",
       "      <th>387</th>\n",
       "      <td>1.518149</td>\n",
       "      <td>-2.197838</td>\n",
       "      <td>-0.116548</td>\n",
       "      <td>-0.049413</td>\n",
       "      <td>-0.894933</td>\n",
       "    </tr>\n",
       "    <tr>\n",
       "      <th>532</th>\n",
       "      <td>-1.351507</td>\n",
       "      <td>-1.115732</td>\n",
       "      <td>-1.525532</td>\n",
       "      <td>-1.566170</td>\n",
       "      <td>0.209114</td>\n",
       "    </tr>\n",
       "    <tr>\n",
       "      <th>895</th>\n",
       "      <td>0.797593</td>\n",
       "      <td>0.319864</td>\n",
       "      <td>-0.110789</td>\n",
       "      <td>-0.560656</td>\n",
       "      <td>0.051713</td>\n",
       "    </tr>\n",
       "    <tr>\n",
       "      <th>239</th>\n",
       "      <td>1.013211</td>\n",
       "      <td>-2.003724</td>\n",
       "      <td>-0.169616</td>\n",
       "      <td>-1.776799</td>\n",
       "      <td>0.832807</td>\n",
       "    </tr>\n",
       "    <tr>\n",
       "      <th>...</th>\n",
       "      <td>...</td>\n",
       "      <td>...</td>\n",
       "      <td>...</td>\n",
       "      <td>...</td>\n",
       "      <td>...</td>\n",
       "    </tr>\n",
       "    <tr>\n",
       "      <th>681</th>\n",
       "      <td>0.764330</td>\n",
       "      <td>0.653366</td>\n",
       "      <td>-0.429136</td>\n",
       "      <td>0.929515</td>\n",
       "      <td>0.274388</td>\n",
       "    </tr>\n",
       "    <tr>\n",
       "      <th>570</th>\n",
       "      <td>-1.444903</td>\n",
       "      <td>1.022972</td>\n",
       "      <td>-0.423454</td>\n",
       "      <td>-1.551570</td>\n",
       "      <td>0.407569</td>\n",
       "    </tr>\n",
       "    <tr>\n",
       "      <th>227</th>\n",
       "      <td>-0.187794</td>\n",
       "      <td>1.643513</td>\n",
       "      <td>-1.151766</td>\n",
       "      <td>0.961661</td>\n",
       "      <td>-1.569226</td>\n",
       "    </tr>\n",
       "    <tr>\n",
       "      <th>638</th>\n",
       "      <td>-0.366122</td>\n",
       "      <td>-0.264966</td>\n",
       "      <td>0.714217</td>\n",
       "      <td>0.755205</td>\n",
       "      <td>-0.015904</td>\n",
       "    </tr>\n",
       "    <tr>\n",
       "      <th>979</th>\n",
       "      <td>-1.344264</td>\n",
       "      <td>-0.070959</td>\n",
       "      <td>-0.367509</td>\n",
       "      <td>-0.902101</td>\n",
       "      <td>0.627647</td>\n",
       "    </tr>\n",
       "  </tbody>\n",
       "</table>\n",
       "<p>200 rows × 5 columns</p>\n",
       "</div>"
      ],
      "text/plain": [
       "     Feature 1  Feature 2  Feature 3  Feature 4  Feature 5\n",
       "458  -0.129755   0.516093   1.305918   0.062283   1.166636\n",
       "387   1.518149  -2.197838  -0.116548  -0.049413  -0.894933\n",
       "532  -1.351507  -1.115732  -1.525532  -1.566170   0.209114\n",
       "895   0.797593   0.319864  -0.110789  -0.560656   0.051713\n",
       "239   1.013211  -2.003724  -0.169616  -1.776799   0.832807\n",
       "..         ...        ...        ...        ...        ...\n",
       "681   0.764330   0.653366  -0.429136   0.929515   0.274388\n",
       "570  -1.444903   1.022972  -0.423454  -1.551570   0.407569\n",
       "227  -0.187794   1.643513  -1.151766   0.961661  -1.569226\n",
       "638  -0.366122  -0.264966   0.714217   0.755205  -0.015904\n",
       "979  -1.344264  -0.070959  -0.367509  -0.902101   0.627647\n",
       "\n",
       "[200 rows x 5 columns]"
      ]
     },
     "execution_count": 41,
     "metadata": {},
     "output_type": "execute_result"
    }
   ],
   "source": [
    "from sklearn.model_selection import train_test_split\n",
    "X_train, X_test, y_train, y_test = train_test_split(X, y, test_size=0.2, random_state=55)\n",
    "\n",
    "X_test"
   ]
  },
  {
   "cell_type": "code",
   "execution_count": 42,
   "metadata": {},
   "outputs": [
    {
     "name": "stdout",
     "output_type": "stream",
     "text": [
      "Навчальні втрати (MSE) у навчальних даних: [102.7027816772461, 102.7027816772461]\n",
      "Тестові втрати (MSE) у тестових даних: [99.08992004394531, 99.08992004394531]\n"
     ]
    },
    {
     "data": {
      "image/png": "[encoded data removed]",
      "text/plain": [
       "<Figure size 640x480 with 1 Axes>"
      ]
     },
     "metadata": {},
     "output_type": "display_data"
    }
   ],
   "source": [
    "from tensorflow.keras.models import Sequential\n",
    "from tensorflow.keras.layers import Dense\n",
    "\n",
    "# Модель нейронної мережі\n",
    "model_nn = Sequential([\n",
    "    Dense(1, input_shape=(X.shape[1],))\n",
    "])\n",
    "\n",
    "# Компіляція та навчання моделі\n",
    "model_nn.compile(optimizer='sgd', loss='mean_squared_error', metrics=['mse'])\n",
    "results = model_nn.fit(X_train, y_train, epochs=100, validation_data=(X_test, y_test), verbose=0)\n",
    "\n",
    "# Оцінка моделі на основі навчальних даних та тестових даних\n",
    "print(\"Навчальні втрати (MSE) у навчальних даних:\", model_nn.evaluate(X_train, y_train, verbose=0))\n",
    "print(\"Тестові втрати (MSE) у тестових даних:\", model_nn.evaluate(X_test, y_test, verbose=0))\n",
    "\n",
    "# Візуалізація результатів навчання\n",
    "import matplotlib.pyplot as plt\n",
    "plt.plot(results.history['loss'], label='Навчальні втрати')\n",
    "plt.plot(results.history['val_loss'], label='Втрата перевірки')\n",
    "plt.xlabel('Epochs')\n",
    "plt.ylabel('MSE')\n",
    "plt.title('Втрати моделі')\n",
    "plt.legend()\n",
    "plt.tight_layout()\n",
    "plt.show()"
   ]
  },
  {
   "cell_type": "markdown",
   "metadata": {},
   "source": [
    "Порівняння з ЛР_2: значення MSE практично однакове в обох роботах, а саме 99.22, тому в моєму випадку нейронна мережа не показала кращих результатів, як могло очікуватися"
   ]
  },
  {
   "cell_type": "markdown",
   "metadata": {},
   "source": [
    "##### Класифікація"
   ]
  },
  {
   "cell_type": "code",
   "execution_count": 43,
   "metadata": {},
   "outputs": [
    {
     "data": {
      "text/html": [
       "<div>\n",
       "<style scoped>\n",
       "    .dataframe tbody tr th:only-of-type {\n",
       "        vertical-align: middle;\n",
       "    }\n",
       "\n",
       "    .dataframe tbody tr th {\n",
       "        vertical-align: top;\n",
       "    }\n",
       "\n",
       "    .dataframe thead th {\n",
       "        text-align: right;\n",
       "    }\n",
       "</style>\n",
       "<table border=\"1\" class=\"dataframe\">\n",
       "  <thead>\n",
       "    <tr style=\"text-align: right;\">\n",
       "      <th></th>\n",
       "      <th>Feature 1</th>\n",
       "      <th>Feature 2</th>\n",
       "      <th>Target</th>\n",
       "    </tr>\n",
       "  </thead>\n",
       "  <tbody>\n",
       "    <tr>\n",
       "      <th>0</th>\n",
       "      <td>0.681638</td>\n",
       "      <td>0.899974</td>\n",
       "      <td>1</td>\n",
       "    </tr>\n",
       "    <tr>\n",
       "      <th>1</th>\n",
       "      <td>-1.985948</td>\n",
       "      <td>0.260815</td>\n",
       "      <td>0</td>\n",
       "    </tr>\n",
       "    <tr>\n",
       "      <th>2</th>\n",
       "      <td>1.593217</td>\n",
       "      <td>1.272679</td>\n",
       "      <td>1</td>\n",
       "    </tr>\n",
       "    <tr>\n",
       "      <th>3</th>\n",
       "      <td>0.371390</td>\n",
       "      <td>1.966326</td>\n",
       "      <td>0</td>\n",
       "    </tr>\n",
       "    <tr>\n",
       "      <th>4</th>\n",
       "      <td>-0.181310</td>\n",
       "      <td>1.544739</td>\n",
       "      <td>0</td>\n",
       "    </tr>\n",
       "    <tr>\n",
       "      <th>...</th>\n",
       "      <td>...</td>\n",
       "      <td>...</td>\n",
       "      <td>...</td>\n",
       "    </tr>\n",
       "    <tr>\n",
       "      <th>995</th>\n",
       "      <td>-1.234707</td>\n",
       "      <td>0.776116</td>\n",
       "      <td>0</td>\n",
       "    </tr>\n",
       "    <tr>\n",
       "      <th>996</th>\n",
       "      <td>-2.697055</td>\n",
       "      <td>-0.176247</td>\n",
       "      <td>0</td>\n",
       "    </tr>\n",
       "    <tr>\n",
       "      <th>997</th>\n",
       "      <td>-0.373326</td>\n",
       "      <td>-0.281959</td>\n",
       "      <td>1</td>\n",
       "    </tr>\n",
       "    <tr>\n",
       "      <th>998</th>\n",
       "      <td>-1.292901</td>\n",
       "      <td>0.836410</td>\n",
       "      <td>0</td>\n",
       "    </tr>\n",
       "    <tr>\n",
       "      <th>999</th>\n",
       "      <td>1.610691</td>\n",
       "      <td>2.225043</td>\n",
       "      <td>1</td>\n",
       "    </tr>\n",
       "  </tbody>\n",
       "</table>\n",
       "<p>1000 rows × 3 columns</p>\n",
       "</div>"
      ],
      "text/plain": [
       "     Feature 1  Feature 2  Target\n",
       "0     0.681638   0.899974       1\n",
       "1    -1.985948   0.260815       0\n",
       "2     1.593217   1.272679       1\n",
       "3     0.371390   1.966326       0\n",
       "4    -0.181310   1.544739       0\n",
       "..         ...        ...     ...\n",
       "995  -1.234707   0.776116       0\n",
       "996  -2.697055  -0.176247       0\n",
       "997  -0.373326  -0.281959       1\n",
       "998  -1.292901   0.836410       0\n",
       "999   1.610691   2.225043       1\n",
       "\n",
       "[1000 rows x 3 columns]"
      ]
     },
     "execution_count": 43,
     "metadata": {},
     "output_type": "execute_result"
    }
   ],
   "source": [
    "import pandas as pd\n",
    "data = pd.read_csv('binary_classification.csv')\n",
    "X = data.drop('Target', axis=1)\n",
    "y = data['Target']\n",
    "\n",
    "data"
   ]
  },
  {
   "cell_type": "code",
   "execution_count": 44,
   "metadata": {},
   "outputs": [
    {
     "data": {
      "text/html": [
       "<div>\n",
       "<style scoped>\n",
       "    .dataframe tbody tr th:only-of-type {\n",
       "        vertical-align: middle;\n",
       "    }\n",
       "\n",
       "    .dataframe tbody tr th {\n",
       "        vertical-align: top;\n",
       "    }\n",
       "\n",
       "    .dataframe thead th {\n",
       "        text-align: right;\n",
       "    }\n",
       "</style>\n",
       "<table border=\"1\" class=\"dataframe\">\n",
       "  <thead>\n",
       "    <tr style=\"text-align: right;\">\n",
       "      <th></th>\n",
       "      <th>Feature 1</th>\n",
       "      <th>Feature 2</th>\n",
       "    </tr>\n",
       "  </thead>\n",
       "  <tbody>\n",
       "    <tr>\n",
       "      <th>458</th>\n",
       "      <td>-0.416231</td>\n",
       "      <td>1.545409</td>\n",
       "    </tr>\n",
       "    <tr>\n",
       "      <th>387</th>\n",
       "      <td>0.846182</td>\n",
       "      <td>0.383825</td>\n",
       "    </tr>\n",
       "    <tr>\n",
       "      <th>532</th>\n",
       "      <td>-0.131739</td>\n",
       "      <td>1.815368</td>\n",
       "    </tr>\n",
       "    <tr>\n",
       "      <th>895</th>\n",
       "      <td>2.251725</td>\n",
       "      <td>2.258658</td>\n",
       "    </tr>\n",
       "    <tr>\n",
       "      <th>239</th>\n",
       "      <td>0.730495</td>\n",
       "      <td>1.189001</td>\n",
       "    </tr>\n",
       "    <tr>\n",
       "      <th>...</th>\n",
       "      <td>...</td>\n",
       "      <td>...</td>\n",
       "    </tr>\n",
       "    <tr>\n",
       "      <th>681</th>\n",
       "      <td>2.298476</td>\n",
       "      <td>1.793144</td>\n",
       "    </tr>\n",
       "    <tr>\n",
       "      <th>570</th>\n",
       "      <td>-2.885091</td>\n",
       "      <td>-0.312036</td>\n",
       "    </tr>\n",
       "    <tr>\n",
       "      <th>227</th>\n",
       "      <td>0.228309</td>\n",
       "      <td>0.630369</td>\n",
       "    </tr>\n",
       "    <tr>\n",
       "      <th>638</th>\n",
       "      <td>-0.507254</td>\n",
       "      <td>1.346218</td>\n",
       "    </tr>\n",
       "    <tr>\n",
       "      <th>979</th>\n",
       "      <td>-0.868857</td>\n",
       "      <td>1.183614</td>\n",
       "    </tr>\n",
       "  </tbody>\n",
       "</table>\n",
       "<p>200 rows × 2 columns</p>\n",
       "</div>"
      ],
      "text/plain": [
       "     Feature 1  Feature 2\n",
       "458  -0.416231   1.545409\n",
       "387   0.846182   0.383825\n",
       "532  -0.131739   1.815368\n",
       "895   2.251725   2.258658\n",
       "239   0.730495   1.189001\n",
       "..         ...        ...\n",
       "681   2.298476   1.793144\n",
       "570  -2.885091  -0.312036\n",
       "227   0.228309   0.630369\n",
       "638  -0.507254   1.346218\n",
       "979  -0.868857   1.183614\n",
       "\n",
       "[200 rows x 2 columns]"
      ]
     },
     "execution_count": 44,
     "metadata": {},
     "output_type": "execute_result"
    }
   ],
   "source": [
    "X_train, X_test, y_train, y_test = train_test_split(X, y, test_size=0.2, random_state=55)\n",
    "\n",
    "X_test"
   ]
  },
  {
   "cell_type": "code",
   "execution_count": 45,
   "metadata": {},
   "outputs": [
    {
     "name": "stdout",
     "output_type": "stream",
     "text": [
      "Навчальні втрати (MSE) у навчальних даних: [0.25999024510383606, 0.9674999713897705]\n",
      "Тестові втрати (MSE) у тестових даних: [0.2516336441040039, 0.9649999737739563]\n"
     ]
    },
    {
     "data": {
      "image/png": "[encoded data removed]",
      "text/plain": [
       "<Figure size 640x480 with 1 Axes>"
      ]
     },
     "metadata": {},
     "output_type": "display_data"
    }
   ],
   "source": [
    "model_nn = Sequential([\n",
    "    Dense(1, input_shape=(X.shape[1],), activation='sigmoid')\n",
    "])\n",
    "\n",
    "model_nn.compile(optimizer='adam', loss='binary_crossentropy', metrics=['accuracy'])\n",
    "history = model_nn.fit(X_train, y_train, epochs=100, validation_data=(X_test, y_test), verbose=0)\n",
    "\n",
    "print(\"Навчальні втрати (MSE) у навчальних даних:\", model_nn.evaluate(X_train, y_train, verbose=0))\n",
    "print(\"Тестові втрати (MSE) у тестових даних:\", model_nn.evaluate(X_test, y_test, verbose=0))\n",
    "\n",
    "import matplotlib.pyplot as plt\n",
    "plt.plot(results.history['loss'], label='Навчальні втрати')\n",
    "plt.plot(results.history['val_loss'], label='Втрата перевірки')\n",
    "plt.xlabel('Epochs')\n",
    "plt.ylabel('MSE')\n",
    "plt.title('Втрати моделі')\n",
    "plt.legend()\n",
    "plt.tight_layout()\n",
    "plt.show()"
   ]
  },
  {
   "cell_type": "markdown",
   "metadata": {},
   "source": [
    "Порівняння з ЛР_3: значення MSE гірше, ніж у попередній роботі, а саме 0.96, тому в моєму випадку нейронна мережа не показала кращих результатів, як могло очікуватися"
   ]
  }
 ],
 "metadata": {
  "kernelspec": {
   "display_name": "myenv",
   "language": "python",
   "name": "python3"
  },
  "language_info": {
   "codemirror_mode": {
    "name": "ipython",
    "version": 3
   },
   "file_extension": ".py",
   "mimetype": "text/x-python",
   "name": "python",
   "nbconvert_exporter": "python",
   "pygments_lexer": "ipython3",
   "version": "3.11.5"
  }
 },
 "nbformat": 4,
 "nbformat_minor": 2
}
