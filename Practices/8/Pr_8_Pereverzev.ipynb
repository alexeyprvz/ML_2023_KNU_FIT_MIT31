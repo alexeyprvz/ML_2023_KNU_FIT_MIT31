{
 "cells": [
  {
   "cell_type": "markdown",
   "metadata": {},
   "source": [
    "# Практична робота №8\n",
    "### Студента групи МІТ-31\n",
    "### Переверзева Олексія"
   ]
  },
  {
   "cell_type": "markdown",
   "metadata": {},
   "source": [
    "Розархівуємо набір даних"
   ]
  },
  {
   "cell_type": "code",
   "execution_count": 1,
   "metadata": {},
   "outputs": [
    {
     "name": "stdout",
     "output_type": "stream",
     "text": [
      "['chicken_curry', 'chicken_wings', 'fried_rice', 'grilled_salmon', 'hamburger', 'ice_cream', 'pizza', 'ramen', 'steak', 'sushi']\n"
     ]
    }
   ],
   "source": [
    "import zipfile\n",
    "import os\n",
    "\n",
    "zip_ref = zipfile.ZipFile(\"10_food_classes_all_data.zip\", \"r\")\n",
    "zip_ref.extractall()\n",
    "zip_ref.close()\n",
    "main_dir=\"10_food_classes_all_data\"\n",
    "\n",
    "food_list = os.listdir(\"10_food_classes_all_data/train\")\n",
    "food_list.sort()\n",
    "print(food_list)\n",
    "\n",
    "# Папки та архів додано у gitignore"
   ]
  },
  {
   "cell_type": "markdown",
   "metadata": {},
   "source": [
    "#### 1. Вибір Класів для Класифікації"
   ]
  },
  {
   "cell_type": "markdown",
   "metadata": {},
   "source": [
    "16 у списку, тому 6 для першого класу, тобто *ice_cream*, 7 для другого - *pizza*"
   ]
  },
  {
   "cell_type": "code",
   "execution_count": 2,
   "metadata": {},
   "outputs": [],
   "source": [
    "classes=['ice_cream', 'pizza']"
   ]
  },
  {
   "cell_type": "markdown",
   "metadata": {},
   "source": [
    "#### 2. Попередня Обробка Даних"
   ]
  },
  {
   "cell_type": "code",
   "execution_count": 3,
   "metadata": {},
   "outputs": [
    {
     "name": "stdout",
     "output_type": "stream",
     "text": [
      "WARNING:tensorflow:From d:\\Anaconda\\envs\\myenv\\Lib\\site-packages\\keras\\src\\losses.py:2976: The name tf.losses.sparse_softmax_cross_entropy is deprecated. Please use tf.compat.v1.losses.sparse_softmax_cross_entropy instead.\n",
      "\n"
     ]
    }
   ],
   "source": [
    "from tensorflow.keras.preprocessing.image import ImageDataGenerator\n",
    "\n",
    "# Створимо генератори для тестового та тренувального набору даних\n",
    "train_datagen = ImageDataGenerator(rescale=1./255)\n",
    "test_datagen = ImageDataGenerator(rescale=1./255)\n",
    "\n",
    "train_datagen = ImageDataGenerator(\n",
    "    rescale=1./255,\n",
    "    shear_range=0.2,\n",
    "    zoom_range=0.2,\n",
    "    horizontal_flip=True,\n",
    ")\n",
    "\n",
    "test_datagen = ImageDataGenerator(rescale=1/255.)"
   ]
  },
  {
   "cell_type": "code",
   "execution_count": 4,
   "metadata": {},
   "outputs": [
    {
     "name": "stdout",
     "output_type": "stream",
     "text": [
      "Found 1500 images belonging to 2 classes.\n",
      "Found 500 images belonging to 2 classes.\n"
     ]
    }
   ],
   "source": [
    "# Директорії тренувальних та тестових наборів\n",
    "train_dir = main_dir+\"/train/\"\n",
    "test_dir = main_dir+\"/test/\"\n",
    "\n",
    "# Імпортуємо дані з каталогів і перетворіть їх на партії\n",
    "\n",
    "#Тренувальний набір\n",
    "train_data = train_datagen.flow_from_directory(train_dir,\n",
    "                                               batch_size=32, # К-ть зображень для обробки одночасно\n",
    "                                               target_size=(224, 224), # Перетворіимо усі зображення в 224 х 224\n",
    "                                               class_mode=\"binary\",\n",
    "                                               subset='training',\n",
    "                                               classes=classes,\n",
    "                                               seed=13)\n",
    "\n",
    "# Тестовий набір\n",
    "test_data = test_datagen.flow_from_directory(test_dir,\n",
    "                                               batch_size=32,\n",
    "                                               target_size=(224, 224),\n",
    "                                               class_mode=\"binary\",\n",
    "                                               classes=classes,\n",
    "                                               seed=13)"
   ]
  },
  {
   "cell_type": "markdown",
   "metadata": {},
   "source": [
    "#### 3. Розробка Моделі CNN"
   ]
  },
  {
   "cell_type": "code",
   "execution_count": 5,
   "metadata": {},
   "outputs": [
    {
     "name": "stdout",
     "output_type": "stream",
     "text": [
      "WARNING:tensorflow:From d:\\Anaconda\\envs\\myenv\\Lib\\site-packages\\keras\\src\\backend.py:873: The name tf.get_default_graph is deprecated. Please use tf.compat.v1.get_default_graph instead.\n",
      "\n",
      "WARNING:tensorflow:From d:\\Anaconda\\envs\\myenv\\Lib\\site-packages\\keras\\src\\layers\\pooling\\max_pooling2d.py:161: The name tf.nn.max_pool is deprecated. Please use tf.nn.max_pool2d instead.\n",
      "\n"
     ]
    }
   ],
   "source": [
    "from tensorflow .keras.models import Sequential\n",
    "from tensorflow.keras.layers import Conv2D, MaxPool2D, Flatten, Dense\n",
    "from tensorflow.keras.optimizers import Adam\n",
    "\n",
    "model = Sequential([\n",
    "    Conv2D(filters=10, \n",
    "            kernel_size=3,  # або (3, 3)\n",
    "            activation=\"relu\", \n",
    "            input_shape=(224, 224, 3)),  # Перший шар визначає форму введення (висота, ширина, колірні канали)\n",
    "    Conv2D(10, 3, activation=\"relu\"),\n",
    "    MaxPool2D(pool_size=2,  # або (2, 2)\n",
    "            padding=\"valid\"),  # або 'same'\n",
    "    Conv2D(10, 3, activation=\"relu\"),\n",
    "    Conv2D(10, 3, activation=\"relu\"),\n",
    "    MaxPool2D(2),\n",
    "    Flatten(),\n",
    "    Dense(1, activation=\"sigmoid\")  # Активація двійкового виходу\n",
    "])\n",
    "\n",
    "model.compile(loss=\"binary_crossentropy\",\n",
    "              optimizer=Adam(),\n",
    "              metrics=[\"accuracy\"])"
   ]
  },
  {
   "cell_type": "markdown",
   "metadata": {},
   "source": [
    "#### 4. Тренування та Оцінка Моделі"
   ]
  },
  {
   "cell_type": "code",
   "execution_count": 6,
   "metadata": {},
   "outputs": [
    {
     "name": "stdout",
     "output_type": "stream",
     "text": [
      "Epoch 1/10\n",
      "WARNING:tensorflow:From d:\\Anaconda\\envs\\myenv\\Lib\\site-packages\\keras\\src\\utils\\tf_utils.py:492: The name tf.ragged.RaggedTensorValue is deprecated. Please use tf.compat.v1.ragged.RaggedTensorValue instead.\n",
      "\n",
      "WARNING:tensorflow:From d:\\Anaconda\\envs\\myenv\\Lib\\site-packages\\keras\\src\\engine\\base_layer_utils.py:384: The name tf.executing_eagerly_outside_functions is deprecated. Please use tf.compat.v1.executing_eagerly_outside_functions instead.\n",
      "\n",
      "47/47 [==============================] - 75s 1s/step - loss: 0.5832 - accuracy: 0.6800 - val_loss: 0.6312 - val_accuracy: 0.6620\n",
      "Epoch 2/10\n",
      "47/47 [==============================] - 28s 603ms/step - loss: 0.5366 - accuracy: 0.7307 - val_loss: 0.5055 - val_accuracy: 0.7420\n",
      "Epoch 3/10\n",
      "47/47 [==============================] - 43s 914ms/step - loss: 0.4915 - accuracy: 0.7660 - val_loss: 0.4661 - val_accuracy: 0.7860\n",
      "Epoch 4/10\n",
      "47/47 [==============================] - 25s 526ms/step - loss: 0.4561 - accuracy: 0.7960 - val_loss: 0.4139 - val_accuracy: 0.8360\n",
      "Epoch 5/10\n",
      "47/47 [==============================] - 26s 546ms/step - loss: 0.4287 - accuracy: 0.8047 - val_loss: 0.3773 - val_accuracy: 0.8320\n",
      "Epoch 6/10\n",
      "47/47 [==============================] - 26s 545ms/step - loss: 0.4131 - accuracy: 0.8200 - val_loss: 0.3864 - val_accuracy: 0.8200\n",
      "Epoch 7/10\n",
      "47/47 [==============================] - 24s 513ms/step - loss: 0.3777 - accuracy: 0.8280 - val_loss: 0.3319 - val_accuracy: 0.8880\n",
      "Epoch 8/10\n",
      "47/47 [==============================] - 25s 528ms/step - loss: 0.3897 - accuracy: 0.8233 - val_loss: 0.3572 - val_accuracy: 0.8320\n",
      "Epoch 9/10\n",
      "47/47 [==============================] - 24s 517ms/step - loss: 0.3737 - accuracy: 0.8413 - val_loss: 0.2850 - val_accuracy: 0.8800\n",
      "Epoch 10/10\n",
      "47/47 [==============================] - 25s 532ms/step - loss: 0.3391 - accuracy: 0.8600 - val_loss: 0.2585 - val_accuracy: 0.8940\n"
     ]
    }
   ],
   "source": [
    "results = model.fit(train_data,\n",
    "                    epochs=10,\n",
    "                    steps_per_epoch=len(train_data),\n",
    "                    validation_data=test_data,\n",
    "                    validation_steps=len(test_data))"
   ]
  },
  {
   "cell_type": "code",
   "execution_count": 8,
   "metadata": {},
   "outputs": [
    {
     "name": "stdout",
     "output_type": "stream",
     "text": [
      "Оцінка моделі: \n",
      "16/16 [==============================] - 2s 127ms/step - loss: 0.2585 - accuracy: 0.8940\n"
     ]
    },
    {
     "data": {
      "text/plain": [
       "<Axes: title={'center': 'Історія моделі'}, xlabel='Епохи', ylabel='Втрати/Точність'>"
      ]
     },
     "execution_count": 8,
     "metadata": {},
     "output_type": "execute_result"
    },
    {
     "data": {
      "image/png": "[encoded data removed]",
      "text/plain": [
       "<Figure size 640x480 with 1 Axes>"
      ]
     },
     "metadata": {},
     "output_type": "display_data"
    }
   ],
   "source": [
    "print(\"Оцінка моделі: \")\n",
    "test_loss, test_accuracy= model.evaluate(test_data)\n",
    "\n",
    "import pandas as pd\n",
    "pd.DataFrame(results.history).plot(xlabel=\"Епохи\",\n",
    "ylabel=\"Втрати/Точність\",title=\"Історія моделі\", xlim=(0,10))"
   ]
  }
 ],
 "metadata": {
  "kernelspec": {
   "display_name": "myenv",
   "language": "python",
   "name": "python3"
  },
  "language_info": {
   "codemirror_mode": {
    "name": "ipython",
    "version": 3
   },
   "file_extension": ".py",
   "mimetype": "text/x-python",
   "name": "python",
   "nbconvert_exporter": "python",
   "pygments_lexer": "ipython3",
   "version": "3.11.5"
  }
 },
 "nbformat": 4,
 "nbformat_minor": 2
}
